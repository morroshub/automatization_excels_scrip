{
 "cells": [
  {
   "cell_type": "code",
   "execution_count": 19,
   "id": "dying-modem",
   "metadata": {},
   "outputs": [],
   "source": [
    "import pandas as pd\n",
    "import matplotlib.pyplot as plt\n",
    "import openpyxl\n",
    "from openpyxl import load_workbook\n",
    "from openpyxl.styles import Font\n",
    "from openpyxl.chart import BarChart, Reference\n",
    "import string"
   ]
  },
  {
   "cell_type": "markdown",
   "id": "enormous-counter",
   "metadata": {},
   "source": [
    "# Make a Pivot Table with Pandas"
   ]
  },
  {
   "cell_type": "markdown",
   "id": "manufactured-adolescent",
   "metadata": {},
   "source": [
    "## Read the Excel files"
   ]
  },
  {
   "cell_type": "code",
   "execution_count": 6,
   "id": "5b339dd0",
   "metadata": {},
   "outputs": [
    {
     "name": "stdout",
     "output_type": "stream",
     "text": [
      "<class 'pandas.core.frame.DataFrame'>\n",
      "RangeIndex: 1000 entries, 0 to 999\n",
      "Data columns (total 17 columns):\n",
      " #   Column                   Non-Null Count  Dtype         \n",
      "---  ------                   --------------  -----         \n",
      " 0   Invoice ID               1000 non-null   object        \n",
      " 1   Branch                   1000 non-null   object        \n",
      " 2   City                     1000 non-null   object        \n",
      " 3   Customer type            1000 non-null   object        \n",
      " 4   Gender                   1000 non-null   object        \n",
      " 5   Product line             1000 non-null   object        \n",
      " 6   Unit price               1000 non-null   float64       \n",
      " 7   Quantity                 1000 non-null   int64         \n",
      " 8   Tax 5%                   1000 non-null   float64       \n",
      " 9   Total                    1000 non-null   float64       \n",
      " 10  Date                     1000 non-null   datetime64[ns]\n",
      " 11  Time                     1000 non-null   object        \n",
      " 12  Payment                  1000 non-null   object        \n",
      " 13  cogs                     1000 non-null   float64       \n",
      " 14  gross margin percentage  1000 non-null   float64       \n",
      " 15  gross income             1000 non-null   float64       \n",
      " 16  Rating                   1000 non-null   float64       \n",
      "dtypes: datetime64[ns](1), float64(7), int64(1), object(8)\n",
      "memory usage: 132.9+ KB\n"
     ]
    }
   ],
   "source": [
    "excel_file = pd.read_excel('supermarket_sales.xlsx')\n",
    "excel_file.info()"
   ]
  },
  {
   "cell_type": "markdown",
   "id": "eec708a8",
   "metadata": {},
   "source": [
    "#### Filtering some columns"
   ]
  },
  {
   "cell_type": "code",
   "execution_count": 9,
   "id": "substantial-jewel",
   "metadata": {
    "scrolled": true
   },
   "outputs": [
    {
     "data": {
      "text/html": [
       "<div>\n",
       "<style scoped>\n",
       "    .dataframe tbody tr th:only-of-type {\n",
       "        vertical-align: middle;\n",
       "    }\n",
       "\n",
       "    .dataframe tbody tr th {\n",
       "        vertical-align: top;\n",
       "    }\n",
       "\n",
       "    .dataframe thead th {\n",
       "        text-align: right;\n",
       "    }\n",
       "</style>\n",
       "<table border=\"1\" class=\"dataframe\">\n",
       "  <thead>\n",
       "    <tr style=\"text-align: right;\">\n",
       "      <th></th>\n",
       "      <th>Gender</th>\n",
       "      <th>Product line</th>\n",
       "      <th>City</th>\n",
       "      <th>Customer type</th>\n",
       "      <th>Total</th>\n",
       "    </tr>\n",
       "  </thead>\n",
       "  <tbody>\n",
       "    <tr>\n",
       "      <th>0</th>\n",
       "      <td>Female</td>\n",
       "      <td>Health and beauty</td>\n",
       "      <td>Yangon</td>\n",
       "      <td>Member</td>\n",
       "      <td>548.9715</td>\n",
       "    </tr>\n",
       "    <tr>\n",
       "      <th>1</th>\n",
       "      <td>Female</td>\n",
       "      <td>Electronic accessories</td>\n",
       "      <td>Naypyitaw</td>\n",
       "      <td>Normal</td>\n",
       "      <td>80.2200</td>\n",
       "    </tr>\n",
       "    <tr>\n",
       "      <th>2</th>\n",
       "      <td>Male</td>\n",
       "      <td>Home and lifestyle</td>\n",
       "      <td>Yangon</td>\n",
       "      <td>Normal</td>\n",
       "      <td>340.5255</td>\n",
       "    </tr>\n",
       "    <tr>\n",
       "      <th>3</th>\n",
       "      <td>Male</td>\n",
       "      <td>Health and beauty</td>\n",
       "      <td>Yangon</td>\n",
       "      <td>Member</td>\n",
       "      <td>489.0480</td>\n",
       "    </tr>\n",
       "    <tr>\n",
       "      <th>4</th>\n",
       "      <td>Male</td>\n",
       "      <td>Sports and travel</td>\n",
       "      <td>Yangon</td>\n",
       "      <td>Normal</td>\n",
       "      <td>634.3785</td>\n",
       "    </tr>\n",
       "    <tr>\n",
       "      <th>...</th>\n",
       "      <td>...</td>\n",
       "      <td>...</td>\n",
       "      <td>...</td>\n",
       "      <td>...</td>\n",
       "      <td>...</td>\n",
       "    </tr>\n",
       "    <tr>\n",
       "      <th>995</th>\n",
       "      <td>Male</td>\n",
       "      <td>Health and beauty</td>\n",
       "      <td>Naypyitaw</td>\n",
       "      <td>Normal</td>\n",
       "      <td>42.3675</td>\n",
       "    </tr>\n",
       "    <tr>\n",
       "      <th>996</th>\n",
       "      <td>Female</td>\n",
       "      <td>Home and lifestyle</td>\n",
       "      <td>Mandalay</td>\n",
       "      <td>Normal</td>\n",
       "      <td>1022.4900</td>\n",
       "    </tr>\n",
       "    <tr>\n",
       "      <th>997</th>\n",
       "      <td>Male</td>\n",
       "      <td>Food and beverages</td>\n",
       "      <td>Yangon</td>\n",
       "      <td>Member</td>\n",
       "      <td>33.4320</td>\n",
       "    </tr>\n",
       "    <tr>\n",
       "      <th>998</th>\n",
       "      <td>Male</td>\n",
       "      <td>Home and lifestyle</td>\n",
       "      <td>Yangon</td>\n",
       "      <td>Normal</td>\n",
       "      <td>69.1110</td>\n",
       "    </tr>\n",
       "    <tr>\n",
       "      <th>999</th>\n",
       "      <td>Female</td>\n",
       "      <td>Fashion accessories</td>\n",
       "      <td>Yangon</td>\n",
       "      <td>Member</td>\n",
       "      <td>649.2990</td>\n",
       "    </tr>\n",
       "  </tbody>\n",
       "</table>\n",
       "<p>1000 rows × 5 columns</p>\n",
       "</div>"
      ],
      "text/plain": [
       "     Gender            Product line       City Customer type      Total\n",
       "0    Female       Health and beauty     Yangon        Member   548.9715\n",
       "1    Female  Electronic accessories  Naypyitaw        Normal    80.2200\n",
       "2      Male      Home and lifestyle     Yangon        Normal   340.5255\n",
       "3      Male       Health and beauty     Yangon        Member   489.0480\n",
       "4      Male       Sports and travel     Yangon        Normal   634.3785\n",
       "..      ...                     ...        ...           ...        ...\n",
       "995    Male       Health and beauty  Naypyitaw        Normal    42.3675\n",
       "996  Female      Home and lifestyle   Mandalay        Normal  1022.4900\n",
       "997    Male      Food and beverages     Yangon        Member    33.4320\n",
       "998    Male      Home and lifestyle     Yangon        Normal    69.1110\n",
       "999  Female     Fashion accessories     Yangon        Member   649.2990\n",
       "\n",
       "[1000 rows x 5 columns]"
      ]
     },
     "execution_count": 9,
     "metadata": {},
     "output_type": "execute_result"
    }
   ],
   "source": [
    "EFilter_File = excel_file[['Gender', 'Product line', 'City', 'Customer type','Total']]\n",
    "EFilter_File"
   ]
  },
  {
   "cell_type": "markdown",
   "id": "acute-terminology",
   "metadata": {},
   "source": [
    "## Make a pivot table"
   ]
  },
  {
   "cell_type": "code",
   "execution_count": 14,
   "id": "iraqi-palmer",
   "metadata": {},
   "outputs": [
    {
     "data": {
      "text/html": [
       "<div>\n",
       "<style scoped>\n",
       "    .dataframe tbody tr th:only-of-type {\n",
       "        vertical-align: middle;\n",
       "    }\n",
       "\n",
       "    .dataframe tbody tr th {\n",
       "        vertical-align: top;\n",
       "    }\n",
       "\n",
       "    .dataframe thead th {\n",
       "        text-align: right;\n",
       "    }\n",
       "</style>\n",
       "<table border=\"1\" class=\"dataframe\">\n",
       "  <thead>\n",
       "    <tr style=\"text-align: right;\">\n",
       "      <th></th>\n",
       "      <th>Product line</th>\n",
       "      <th>Electronic accessories</th>\n",
       "      <th>Fashion accessories</th>\n",
       "      <th>Food and beverages</th>\n",
       "      <th>Health and beauty</th>\n",
       "      <th>Home and lifestyle</th>\n",
       "      <th>Sports and travel</th>\n",
       "    </tr>\n",
       "    <tr>\n",
       "      <th>Gender</th>\n",
       "      <th>Customer type</th>\n",
       "      <th></th>\n",
       "      <th></th>\n",
       "      <th></th>\n",
       "      <th></th>\n",
       "      <th></th>\n",
       "      <th></th>\n",
       "    </tr>\n",
       "  </thead>\n",
       "  <tbody>\n",
       "    <tr>\n",
       "      <th rowspan=\"2\" valign=\"top\">Female</th>\n",
       "      <th>Member</th>\n",
       "      <td>11154.0</td>\n",
       "      <td>15123.0</td>\n",
       "      <td>19599.0</td>\n",
       "      <td>8379.0</td>\n",
       "      <td>17234.0</td>\n",
       "      <td>16658.0</td>\n",
       "    </tr>\n",
       "    <tr>\n",
       "      <th>Normal</th>\n",
       "      <td>15948.0</td>\n",
       "      <td>15315.0</td>\n",
       "      <td>13572.0</td>\n",
       "      <td>10182.0</td>\n",
       "      <td>12803.0</td>\n",
       "      <td>11917.0</td>\n",
       "    </tr>\n",
       "    <tr>\n",
       "      <th rowspan=\"2\" valign=\"top\">Male</th>\n",
       "      <th>Member</th>\n",
       "      <td>13345.0</td>\n",
       "      <td>11201.0</td>\n",
       "      <td>11759.0</td>\n",
       "      <td>17452.0</td>\n",
       "      <td>10744.0</td>\n",
       "      <td>11576.0</td>\n",
       "    </tr>\n",
       "    <tr>\n",
       "      <th>Normal</th>\n",
       "      <td>13891.0</td>\n",
       "      <td>12667.0</td>\n",
       "      <td>11215.0</td>\n",
       "      <td>13181.0</td>\n",
       "      <td>13081.0</td>\n",
       "      <td>14972.0</td>\n",
       "    </tr>\n",
       "  </tbody>\n",
       "</table>\n",
       "</div>"
      ],
      "text/plain": [
       "Product line          Electronic accessories  Fashion accessories  \\\n",
       "Gender Customer type                                                \n",
       "Female Member                        11154.0              15123.0   \n",
       "       Normal                        15948.0              15315.0   \n",
       "Male   Member                        13345.0              11201.0   \n",
       "       Normal                        13891.0              12667.0   \n",
       "\n",
       "Product line          Food and beverages  Health and beauty  \\\n",
       "Gender Customer type                                          \n",
       "Female Member                    19599.0             8379.0   \n",
       "       Normal                    13572.0            10182.0   \n",
       "Male   Member                    11759.0            17452.0   \n",
       "       Normal                    11215.0            13181.0   \n",
       "\n",
       "Product line          Home and lifestyle  Sports and travel  \n",
       "Gender Customer type                                         \n",
       "Female Member                    17234.0            16658.0  \n",
       "       Normal                    12803.0            11917.0  \n",
       "Male   Member                    10744.0            11576.0  \n",
       "       Normal                    13081.0            14972.0  "
      ]
     },
     "execution_count": 14,
     "metadata": {},
     "output_type": "execute_result"
    }
   ],
   "source": [
    "report_table = excel_file.pivot_table(index=['Gender', 'Customer type'],\n",
    "                                      columns='Product line',\n",
    "                                      values='Total',\n",
    "                                      aggfunc='sum').round(0)\n",
    "report_table\n"
   ]
  },
  {
   "cell_type": "markdown",
   "id": "printable-current",
   "metadata": {},
   "source": [
    "## Exporting pivot table to Excel file"
   ]
  },
  {
   "cell_type": "code",
   "execution_count": 15,
   "id": "suburban-mouth",
   "metadata": {},
   "outputs": [],
   "source": [
    "report_table.to_excel('report_2021.xlsx',\n",
    "                      sheet_name='Report',\n",
    "                      startrow=4)"
   ]
  },
  {
   "cell_type": "markdown",
   "id": "motivated-somerset",
   "metadata": {},
   "source": [
    "# Make The Report with Openpyxl"
   ]
  },
  {
   "cell_type": "markdown",
   "id": "anonymous-assurance",
   "metadata": {},
   "source": [
    "## Creating row and column reference"
   ]
  },
  {
   "cell_type": "code",
   "execution_count": 16,
   "id": "eastern-click",
   "metadata": {},
   "outputs": [
    {
     "name": "stdout",
     "output_type": "stream",
     "text": [
      "Min Columns: 1\n",
      "Max Columns: 8\n",
      "Min Rows: 5\n",
      "Max Rows: 9\n"
     ]
    }
   ],
   "source": [
    "wb = load_workbook('report_2021.xlsx')\n",
    "sheet = wb['Report']\n",
    "\n",
    "# cell references (original spreadsheet) \n",
    "min_column = wb.active.min_column\n",
    "max_column = wb.active.max_column\n",
    "min_row = wb.active.min_row\n",
    "max_row = wb.active.max_row\n",
    "\n",
    "print(f'Min Columns: {min_column}')\n",
    "print(f'Max Columns: {max_column}')\n",
    "print(f'Min Rows: {min_row}')\n",
    "print(f'Max Rows: {max_row}')"
   ]
  },
  {
   "cell_type": "markdown",
   "id": "korean-dimension",
   "metadata": {},
   "source": [
    "## Adding Excel charts through Python"
   ]
  },
  {
   "cell_type": "code",
   "execution_count": 18,
   "id": "incident-return",
   "metadata": {},
   "outputs": [],
   "source": [
    "wb = load_workbook('report_2021.xlsx')\n",
    "sheet = wb['Report']\n",
    "# barchart\n",
    "barchart = BarChart()\n",
    "#locate data and categories\n",
    "data = Reference(sheet,\n",
    "                 min_col=min_column+1,\n",
    "                 max_col=max_column,\n",
    "                 min_row=min_row,\n",
    "                 max_row=max_row) #including headers\n",
    "categories = Reference(sheet,\n",
    "                       min_col=min_column,\n",
    "                       max_col=min_column,\n",
    "                       min_row=min_row+1,\n",
    "                       max_row=max_row) #not including headers\n",
    "# adding data and categories\n",
    "barchart.add_data(data, titles_from_data=True)\n",
    "barchart.set_categories(categories)\n",
    "#location chart\n",
    "sheet.add_chart(barchart, \"B12\")\n",
    "barchart.title = 'Sales by Product line'\n",
    "barchart.style = 5 #choose the chart style\n",
    "wb.save('report_2021.xlsx')"
   ]
  },
  {
   "cell_type": "markdown",
   "id": "2e76a8c2",
   "metadata": {},
   "source": [
    "### Same chart here with matplotlib "
   ]
  },
  {
   "cell_type": "code",
   "execution_count": 26,
   "id": "bbdbd62e",
   "metadata": {},
   "outputs": [
    {
     "data": {
      "image/png": "[encoded data removed]",
      "text/plain": [
       "<Figure size 1200x800 with 1 Axes>"
      ]
     },
     "metadata": {},
     "output_type": "display_data"
    }
   ],
   "source": [
    "# Crear un DataFrame pivote para agrupar por 'Customer type' y 'Product line' y obtener el valor 'Total'\n",
    "pivot_table = excel_file.pivot_table(index='Customer type', columns='Product line', values='Total', aggfunc='sum')\n",
    "\n",
    "# Crear un gráfico de barras agrupadas\n",
    "pivot_table.plot(kind='bar', figsize=(12, 8))\n",
    "plt.xlabel('Customer Type')\n",
    "plt.ylabel('Total Sales')\n",
    "plt.title('Total Sales by Customer Type and Product Line')\n",
    "plt.xticks(rotation=45)\n",
    "plt.legend(title='Product Line', bbox_to_anchor=(1.05, 1), loc='upper left')\n",
    "plt.tight_layout()\n",
    "plt.show()\n"
   ]
  },
  {
   "cell_type": "code",
   "execution_count": 27,
   "id": "7db81424",
   "metadata": {},
   "outputs": [
    {
     "data": {
      "image/png": "[encoded data removed]",
      "text/plain": [
       "<Figure size 1000x600 with 1 Axes>"
      ]
     },
     "metadata": {},
     "output_type": "display_data"
    }
   ],
   "source": [
    "# Crear una tabla pivote para resumir los datos\n",
    "pivot_table = excel_file.pivot_table(index=['Gender', 'Customer type'], values='Total', aggfunc='sum')\n",
    "\n",
    "# Reorganizar los datos para que 'Gender' y 'Customer type' estén en el índice\n",
    "pivot_table = pivot_table.unstack()\n",
    "\n",
    "# Crear un gráfico de barras apiladas\n",
    "pivot_table.plot(kind='bar', stacked=True, figsize=(10, 6))\n",
    "plt.xlabel('Gender and Customer Type')\n",
    "plt.ylabel('Total Sales')\n",
    "plt.title('Total Sales by Gender and Customer Type')\n",
    "plt.legend(title='Customer Type', labels=pivot_table.columns.get_level_values(1))\n",
    "plt.xticks(rotation=45)\n",
    "plt.show()"
   ]
  },
  {
   "cell_type": "markdown",
   "id": "accurate-round",
   "metadata": {},
   "source": [
    "### Applying formulas with cell references"
   ]
  },
  {
   "cell_type": "code",
   "execution_count": 28,
   "id": "electoral-macedonia",
   "metadata": {},
   "outputs": [
    {
     "data": {
      "text/plain": [
       "['A', 'B', 'C', 'D', 'E', 'F', 'G', 'H']"
      ]
     },
     "execution_count": 28,
     "metadata": {},
     "output_type": "execute_result"
    }
   ],
   "source": [
    "import string\n",
    "alphabet = list(string.ascii_uppercase)\n",
    "excel_alphabet = alphabet[0:max_column] #note: Python lists start on 0 -> A=0, B=1, C=2. #note2 the [a:b] takes b-a elements\n",
    "excel_alphabet"
   ]
  },
  {
   "cell_type": "code",
   "execution_count": 29,
   "id": "former-mention",
   "metadata": {},
   "outputs": [],
   "source": [
    "wb = load_workbook('report_2021.xlsx')\n",
    "sheet = wb['Report']\n",
    "# sum in columns B-G\n",
    "for i in excel_alphabet:\n",
    "    if i!='A':\n",
    "        sheet[f'{i}{max_row+1}'] = f'=SUM({i}{min_row+1}:{i}{max_row})'\n",
    "        sheet[f'{i}{max_row+1}'].style = 'Currency'\n",
    "\n",
    "# adding total label\n",
    "sheet[f'{excel_alphabet[0]}{max_row+1}'] = 'Total'\n",
    "wb.save('report_2021.xlsx')"
   ]
  },
  {
   "cell_type": "markdown",
   "id": "domestic-trail",
   "metadata": {},
   "source": [
    "## Formatting the report sheet"
   ]
  },
  {
   "cell_type": "code",
   "execution_count": 10,
   "id": "mighty-gates",
   "metadata": {},
   "outputs": [],
   "source": [
    "wb = load_workbook('report_2021.xlsx')\n",
    "sheet = wb['Report']\n",
    "\n",
    "sheet['A1'] = 'Sales Report'\n",
    "sheet['A2'] = '2021'\n",
    "sheet['A1'].font = Font('Arial', bold=True, size=20)\n",
    "sheet['A2'].font = Font('Arial', bold=True, size=10)\n",
    "\n",
    "wb.save('report_2021.xlsx')"
   ]
  },
  {
   "cell_type": "markdown",
   "id": "running-internship",
   "metadata": {},
   "source": [
    "# Automating the Report with a Python Function"
   ]
  },
  {
   "cell_type": "code",
   "execution_count": 33,
   "id": "hollywood-frame",
   "metadata": {},
   "outputs": [],
   "source": [
    "import pandas as pd\n",
    "import openpyxl\n",
    "from openpyxl import load_workbook\n",
    "from openpyxl.styles import Font\n",
    "from openpyxl.chart import BarChart, Reference\n",
    "import string\n",
    "\n",
    "def automate_excel(file_name):\n",
    "    \"\"\"The file name should have the following structure: sales_month.xlsx\"\"\"\n",
    "    # read excel file\n",
    "    excel_file = pd.read_excel(file_name)\n",
    "    # make pivot table\n",
    "    report_table = excel_file.pivot_table(index='Gender', columns='Product line', values='Total', aggfunc='sum').round(0)\n",
    "    # splitting the month and extension from the file name\n",
    "    month_and_extension = file_name.split('_')[1]\n",
    "    # send the report table to excel file\n",
    "    report_table.to_excel(f'report_{month_and_extension}', sheet_name='Report', startrow=4)\n",
    "    # loading workbook and selecting sheet\n",
    "    wb = load_workbook(f'report_{month_and_extension}')\n",
    "    sheet = wb['Report']\n",
    "    # cell references (original spreadsheet)\n",
    "    min_column = wb.active.min_column\n",
    "    max_column = wb.active.max_column\n",
    "    min_row = wb.active.min_row\n",
    "    max_row = wb.active.max_row\n",
    "    # adding a chart\n",
    "    barchart = BarChart()\n",
    "    data = Reference(sheet, min_col=min_column+1, max_col=max_column, min_row=min_row, max_row=max_row) #including headers\n",
    "    categories = Reference(sheet, min_col=min_column, max_col=min_column, min_row=min_row+1, max_row=max_row) #not including headers\n",
    "    barchart.add_data(data, titles_from_data=True)\n",
    "    barchart.set_categories(categories)\n",
    "    sheet.add_chart(barchart, \"B12\") #location chart\n",
    "    barchart.title = 'Sales by Product line'\n",
    "    barchart.style = 2 #choose the chart style\n",
    "    # applying formulas\n",
    "    # first create alphabet list as references for cells\n",
    "    alphabet = list(string.ascii_uppercase)\n",
    "    excel_alphabet = alphabet[0:max_column] #note: Python lists start on 0 -> A=0, B=1, C=2. #note2 the [a:b] takes b-a elements\n",
    "    # sum in columns B-G\n",
    "    for i in excel_alphabet:\n",
    "        if i!='A':\n",
    "            sheet[f'{i}{max_row+1}'] = f'=SUM({i}{min_row+1}:{i}{max_row})'\n",
    "            sheet[f'{i}{max_row+1}'].style = 'Currency'\n",
    "    sheet[f'{excel_alphabet[0]}{max_row+1}'] = 'Total'\n",
    "    # getting month name\n",
    "    month_name = month_and_extension.split('.')[0]\n",
    "    # formatting the report\n",
    "    sheet['A1'] = 'Sales Report'\n",
    "    sheet['A2'] = month_name.title()\n",
    "    sheet['A1'].font = Font('Arial', bold=True, size=20)\n",
    "    sheet['A2'].font = Font('Arial', bold=True, size=10)\n",
    "    wb.save(f'report_{month_and_extension}')\n",
    "    return "
   ]
  },
  {
   "cell_type": "markdown",
   "id": "horizontal-radical",
   "metadata": {},
   "source": [
    "## Applying the function to a single Excel file"
   ]
  },
  {
   "cell_type": "code",
   "execution_count": 36,
   "id": "white-brass",
   "metadata": {},
   "outputs": [],
   "source": [
    "automate_excel('sales_2021.xlsx')"
   ]
  },
  {
   "cell_type": "markdown",
   "id": "knowing-toddler",
   "metadata": {},
   "source": [
    "## Applying the function to multiple Excel files"
   ]
  },
  {
   "cell_type": "code",
   "execution_count": 37,
   "id": "noble-summit",
   "metadata": {},
   "outputs": [],
   "source": [
    "# option 1: apply the formula one by one to get 3 reports\n",
    "automate_excel('sales_january.xlsx')\n",
    "automate_excel('sales_february.xlsx')\n",
    "automate_excel('sales_march.xlsx')"
   ]
  },
  {
   "cell_type": "code",
   "execution_count": 38,
   "id": "active-boulder",
   "metadata": {
    "scrolled": true
   },
   "outputs": [],
   "source": [
    "# option 2: concatenate them first using pd.concat() and then apply the function only once.\n",
    "excel_file_1 = pd.read_excel('sales_january.xlsx')\n",
    "excel_file_2 = pd.read_excel('sales_february.xlsx')\n",
    "excel_file_3 = pd.read_excel('sales_march.xlsx')\n",
    "\n",
    "new_file = pd.concat([excel_file_1,\n",
    "                      excel_file_2,\n",
    "                      excel_file_3], ignore_index=True)\n",
    "new_file.to_excel('sales_2021.xlsx')\n",
    "automate_excel('sales_2021.xlsx')"
   ]
  },
  {
   "cell_type": "code",
   "execution_count": null,
   "id": "e71dc0f5",
   "metadata": {},
   "outputs": [],
   "source": []
  }
 ],
 "metadata": {
  "hide_input": false,
  "kernelspec": {
   "display_name": "Python 3 (ipykernel)",
   "language": "python",
   "name": "python3"
  },
  "language_info": {
   "codemirror_mode": {
    "name": "ipython",
    "version": 3
   },
   "file_extension": ".py",
   "mimetype": "text/x-python",
   "name": "python",
   "nbconvert_exporter": "python",
   "pygments_lexer": "ipython3",
   "version": "3.9.13"
  },
  "toc": {
   "base_numbering": 1,
   "nav_menu": {},
   "number_sections": true,
   "sideBar": true,
   "skip_h1_title": false,
   "title_cell": "Table of Contents",
   "title_sidebar": "Contents",
   "toc_cell": false,
   "toc_position": {},
   "toc_section_display": true,
   "toc_window_display": false
  },
  "varInspector": {
   "cols": {
    "lenName": 16,
    "lenType": 16,
    "lenVar": 40
   },
   "kernels_config": {
    "python": {
     "delete_cmd_postfix": "",
     "delete_cmd_prefix": "del ",
     "library": "var_list.py",
     "varRefreshCmd": "print(var_dic_list())"
    },
    "r": {
     "delete_cmd_postfix": ") ",
     "delete_cmd_prefix": "rm(",
     "library": "var_list.r",
     "varRefreshCmd": "cat(var_dic_list()) "
    }
   },
   "types_to_exclude": [
    "module",
    "function",
    "builtin_function_or_method",
    "instance",
    "_Feature"
   ],
   "window_display": false
  }
 },
 "nbformat": 4,
 "nbformat_minor": 5
}
